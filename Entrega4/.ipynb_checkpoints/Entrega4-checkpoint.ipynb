{
 "cells": [
  {
   "cell_type": "code",
   "execution_count": 1,
   "metadata": {
    "collapsed": true
   },
   "outputs": [],
   "source": [
    "#Programa para comparar la eficiencia y eficacia\n",
    "#de los algortimos Búsqueda Tabú y Enfriamiento Simulado\n",
    "#para el problema de ubicar N reinas de ajedrez en un tablero de NxN\n",
    "#---Curso:Optimización 2017-01 Universidad de Antioquia\n",
    "#---Estudiante: John Tapias Zarrazola\n",
    "\n",
    "# coding: utf-8\n",
    "from math import *\n",
    "import random\n",
    "from __future__ import division"
   ]
  },
  {
   "cell_type": "code",
   "execution_count": 2,
   "metadata": {
    "collapsed": true
   },
   "outputs": [],
   "source": [
    "def generarNuevoCandidato(semilla,movimiento):\n",
    "    \n",
    "    #Copia el vector semilla\n",
    "    nuevo=list(semilla)\n",
    "    \n",
    "    #Realiza las permutaciones\n",
    "    temp= nuevo[movimiento[0]]\n",
    "    nuevo[movimiento[0]] = nuevo[movimiento[1]]\n",
    "    nuevo[movimiento[1]] = temp\n",
    "    \n",
    "    return nuevo\n",
    "        \n",
    "    \n",
    " "
   ]
  },
  {
   "cell_type": "code",
   "execution_count": 3,
   "metadata": {
    "collapsed": true
   },
   "outputs": [],
   "source": [
    "def generarCandidatos(semilla,lista,posibles,memoria,N):\n",
    "    print \"---------------------------\"\n",
    "    print \"Comienza la generación de nuevos candidatos,\"\n",
    "    print \"según la semilla:\"\n",
    "    print semilla\n",
    "    print \"---------------------------\"\n",
    "    candidatos=[]\n",
    "    while len(candidatos)<posibles:\n",
    "        #Crea un nuevo movimiento\n",
    "        movimiento=[]\n",
    "        #El movimiento consta de dos partes\n",
    "        while len(movimiento) < 2:\n",
    "            #Las posiciones del vector van de 0 a N-1\n",
    "            temp=random.randint(0,N-1)\n",
    "            if temp not in movimiento:\n",
    "                movimiento.append(temp)\n",
    "        movimiento=list(sorted(movimiento))\n",
    "        \n",
    "        if movimiento not in lista:\n",
    "            print \"Permutación \",movimiento,\" : Ha sido aceptada\"\n",
    "            lista.append(movimiento)\n",
    "            candidato= generarNuevoCandidato(semilla,movimiento)\n",
    "            print \"Se genera nuevo candidato: \",candidato\n",
    "            candidatos.append(candidato)\n",
    "            if len(lista) > posibles*memoria:\n",
    "                #La lista funciona como cola\n",
    "                #Se elimina el primero de la lista\n",
    "                del lista[0]                \n",
    "        else:\n",
    "            print \"Permutación \",movimiento,\" : Ha sido rechazado\"\n",
    "            \n",
    "    \n",
    "    print \"---------------------------\"\n",
    "    print \"Lista Tabú actualizada:\"\n",
    "    print lista\n",
    "    print \"---------------------------\"\n",
    "    return candidatos\n",
    "            "
   ]
  },
  {
   "cell_type": "code",
   "execution_count": 4,
   "metadata": {},
   "outputs": [],
   "source": [
    "def evaluar(v):\n",
    "    #Parejas penalizadas\n",
    "    #Se almacenan para no penalizar dos veces lo mismo\n",
    "    #penalizados=[]\n",
    "    penalizar=0\n",
    "    for i in range(0,len(v)):\n",
    "        #El vector se analiza de izquierda a derecha\n",
    "        #Intervalo de [1;len(V)-i)\n",
    "        for j in range(1,len(v)-i):\n",
    "            if v[i+j]==v[i]+j or v[i+j]==v[i]-j:\n",
    "                #print \"Penaliza ind:\",i,\" ind:\",(i+j)\n",
    "                penalizar=penalizar+1\n",
    "            #print \"Fitness=\",penalizar\n",
    "        \n",
    "    \n",
    "    return penalizar\n",
    "    "
   ]
  },
  {
   "cell_type": "code",
   "execution_count": 5,
   "metadata": {
    "collapsed": true
   },
   "outputs": [],
   "source": [
    "def combinatoria(N):\n",
    "    return (N*(N-1))/2"
   ]
  },
  {
   "cell_type": "code",
   "execution_count": 6,
   "metadata": {
    "collapsed": true
   },
   "outputs": [],
   "source": [
    "def producirSemilla(N):\n",
    "    semilla=[]\n",
    "    #semilla={\"vector\":}\n",
    "    #vector=[]\n",
    "    while len(semilla)<N:\n",
    "        temp = random.randint(0,N-1)\n",
    "        if temp not in semilla:\n",
    "            semilla.append(temp)\n",
    "    #Se genera el vector semilla\n",
    "    print \"---------------------------\"\n",
    "    print \"Solución aleatoria inicial:\"\n",
    "    print semilla\n",
    "    print \"Fitness = \",evaluar(semilla)\n",
    "    print \"---------------------------\"\n",
    "    #Se retorna el vector semilla\n",
    "    return semilla"
   ]
  },
  {
   "cell_type": "code",
   "execution_count": 7,
   "metadata": {},
   "outputs": [],
   "source": [
    "def busquedaTabu(N,I):\n",
    "    #Es una combinatoria de N tomados de a 2\n",
    "    #Es el número máximo de elementos que puede tener la lista tabú\n",
    "    #La lista viene dada por el usuario memoria*posibles\n",
    "    #combinatoria(N,2) <= memoria*posibles\n",
    "    textto='''\n",
    "    ------------------------------------------------------\n",
    "    ------------------------------------------------------\n",
    "    La lista Tabú tendrá como máximo de elementos:\n",
    "    maxElem = cantidad de iteraciones a recordar * número de individuos nuevos por cada generación\n",
    "\n",
    "    Pero la lista Tabú está restringida según la cantidad de reinas N a organizar\n",
    "    maxCombinaciones = Combinatoria(N,2)\n",
    "\n",
    "    Asegurese que maxElem <= maxCombinaciones\n",
    "    ------------------------------------------------------\n",
    "    ------------------------------------------------------\n",
    "    '''    \n",
    "    continuar=False\n",
    "    while not continuar:\n",
    "        print textto\n",
    "        maxCombinaciones=combinatoria(N)\n",
    "        print \"maxCombinaciones = \",maxCombinaciones\n",
    "        memoria=input('Ingrese la cantidad de iteraciones que recordará la lista Tabú:')\n",
    "        posibles=input('Ingrese el número de inviduos a generar en cada iteración:')\n",
    "\n",
    "        if memoria*posibles>maxCombinaciones:\n",
    "            print \"\\n---------------------------\"\n",
    "            print \"  >>ALERTA<<\"\n",
    "            print \"maxElem = \",memoria*posibles,\" supera a maxCombinaciones=\",maxCombinaciones\n",
    "            print \"---------------------------\\n\"\n",
    "        else:\n",
    "            continuar=True\n",
    "    \n",
    "    lista=[]*memoria\n",
    "    individuos=[]*posibles\n",
    "    \n",
    "    vector=producirSemilla(N)\n",
    "    \n",
    "    #Comienza el algoritmo\n",
    "    finalizar= False\n",
    "    i=0\n",
    "    while i<I and not finalizar:\n",
    "        dicVector={}\n",
    "        dicVector[0]={evaluar(vector):vector}\n",
    "        #Se generan los nuevos individuos\n",
    "        #Restringidos por la lista de memoria\n",
    "        individuos = generarCandidatos(vector,lista,posibles,memoria,N)\n",
    "        #Se evaluan a los nuevos individuos\n",
    "        for ind in individuos:            \n",
    "            dicVector[len(dicVector)]={evaluar(ind):ind}\n",
    "        #Se ordenan ascendentemente, la idea es minizar la función\n",
    "        dicVector = list(sorted(dicVector.values()))\n",
    "        print \"\\nFitness\\tVector\"\n",
    "        print \"--------\\t--------\"\n",
    "        for elem in dicVector:\n",
    "            [(k, v)] = elem.items()\n",
    "            print k,\"\\t\",v\n",
    "        print \"--------\\t--------\\n\"\n",
    "        #El primero es el que tiene igual o más bajo fitness\n",
    "        \n",
    "        vector =dicVector[0]\n",
    "        print \"Se selecciona nueva semilla \",vector\n",
    "        #Si alcanza una penalización igual a cero\n",
    "        if 0 in vector:\n",
    "            finalizar=True\n",
    "            print \"\\n\\n---------------------------\"\n",
    "            print \"Finaliza algoritmo búsqueda tabú con solución:\"            \n",
    "            for fit,vec in vector.iteritems():\n",
    "                print vec\n",
    "                print \"Fitness = \",fit            \n",
    "            print \"---------------------------\"\n",
    "        else:\n",
    "            print \"---------------------------\"\n",
    "            print \"Mejor solución hasta el momento\"\n",
    "            for fit,vec in vector.iteritems():\n",
    "                print vec\n",
    "                print \"Fitness = \",fit\n",
    "                vector=vector[fit]\n",
    "                break\n",
    "            print \"---------------------------\"\n",
    "            \n",
    "            i=i+1\n",
    "        \n",
    "    \n"
   ]
  },
  {
   "cell_type": "code",
   "execution_count": 8,
   "metadata": {
    "collapsed": true
   },
   "outputs": [],
   "source": [
    "def enfriamientoSimulado(N,I):\n",
    "    print \"Soy enfriamiento simulado\""
   ]
  },
  {
   "cell_type": "code",
   "execution_count": 9,
   "metadata": {
    "collapsed": true
   },
   "outputs": [],
   "source": [
    "def finalizar():\n",
    "    print \"\\n\\n---------------------------\"\n",
    "    resp=raw_input(\"¿Desea ejecutar algún algoritmo nuevamente?:\\n(S)Sí\\n(N)No:\\n\").strip().lower()\n",
    "    if respc==\"s\":\n",
    "        return True\n",
    "    \n",
    "    return False"
   ]
  },
  {
   "cell_type": "code",
   "execution_count": 10,
   "metadata": {},
   "outputs": [
    {
     "name": "stdout",
     "output_type": "stream",
     "text": [
      "\n",
      "Ingrese el tipo de algoritmo:\n",
      "(1) Búsqueda Tabú\n",
      "(2) Enfriamiento Simulado\n",
      "1\n",
      "Ingrese el número de reinas:7\n",
      "Ingrese el número de iteraciones máximas:8\n",
      "\n",
      "    ------------------------------------------------------\n",
      "    ------------------------------------------------------\n",
      "    La lista Tabú tendrá como máximo de elementos:\n",
      "    maxElem = cantidad de iteraciones a recordar * número de individuos nuevos por cada generación\n",
      "\n",
      "    Pero la lista Tabú está restringida según la cantidad de reinas N a organizar\n",
      "    maxCombinaciones = Combinatoria(N,2)\n",
      "\n",
      "    Asegurese que maxElem <= maxCombinaciones\n",
      "    ------------------------------------------------------\n",
      "    ------------------------------------------------------\n",
      "    \n",
      "maxCombinaciones =  21.0\n",
      "Ingrese la cantidad de iteraciones que recordará la lista Tabú:2\n",
      "Ingrese el número de inviduos a generar en cada iteración:4\n",
      "---------------------------\n",
      "Solución aleatoria inicial:\n",
      "[1, 3, 4, 0, 2, 6, 5]\n",
      "Fitness =  4\n",
      "---------------------------\n",
      "---------------------------\n",
      "Comienza la generación de nuevos candidatos,\n",
      "según la semilla:\n",
      "[1, 3, 4, 0, 2, 6, 5]\n",
      "---------------------------\n",
      "Permutación  [0, 1]  : Ha sido aceptada\n",
      "Se genera nuevo candidato:  [3, 1, 4, 0, 2, 6, 5]\n",
      "Permutación  [5, 6]  : Ha sido aceptada\n",
      "Se genera nuevo candidato:  [1, 3, 4, 0, 2, 5, 6]\n",
      "Permutación  [1, 2]  : Ha sido aceptada\n",
      "Se genera nuevo candidato:  [1, 4, 3, 0, 2, 6, 5]\n",
      "Permutación  [2, 4]  : Ha sido aceptada\n",
      "Se genera nuevo candidato:  [1, 3, 2, 0, 4, 6, 5]\n",
      "---------------------------\n",
      "Lista Tabú actualizada:\n",
      "[[0, 1], [5, 6], [1, 2], [2, 4]]\n",
      "---------------------------\n",
      "\n",
      "Fitness\tVector\n",
      "--------\t--------\n"
     ]
    },
    {
     "ename": "AttributeError",
     "evalue": "'list' object has no attribute 'iteritems'",
     "output_type": "error",
     "traceback": [
      "\u001b[0;31m---------------------------------------------------------------------------\u001b[0m",
      "\u001b[0;31mAttributeError\u001b[0m                            Traceback (most recent call last)",
      "\u001b[0;32m<ipython-input-10-9645fdc39809>\u001b[0m in \u001b[0;36m<module>\u001b[0;34m()\u001b[0m\n\u001b[1;32m     11\u001b[0m         \u001b[0mnroReinas\u001b[0m\u001b[0;34m=\u001b[0m\u001b[0minput\u001b[0m\u001b[0;34m(\u001b[0m\u001b[0;34m'Ingrese el número de reinas:'\u001b[0m\u001b[0;34m)\u001b[0m\u001b[0;34m\u001b[0m\u001b[0m\n\u001b[1;32m     12\u001b[0m         \u001b[0mnroIteraciones\u001b[0m\u001b[0;34m=\u001b[0m\u001b[0minput\u001b[0m\u001b[0;34m(\u001b[0m\u001b[0;34m'Ingrese el número de iteraciones máximas:'\u001b[0m\u001b[0;34m)\u001b[0m\u001b[0;34m\u001b[0m\u001b[0m\n\u001b[0;32m---> 13\u001b[0;31m         \u001b[0mbusquedaTabu\u001b[0m\u001b[0;34m(\u001b[0m\u001b[0mnroReinas\u001b[0m\u001b[0;34m,\u001b[0m\u001b[0mnroIteraciones\u001b[0m\u001b[0;34m)\u001b[0m\u001b[0;34m\u001b[0m\u001b[0m\n\u001b[0m\u001b[1;32m     14\u001b[0m         \u001b[0mrepetir\u001b[0m\u001b[0;34m=\u001b[0m\u001b[0mfinalizar\u001b[0m\u001b[0;34m(\u001b[0m\u001b[0;34m)\u001b[0m\u001b[0;34m\u001b[0m\u001b[0m\n\u001b[1;32m     15\u001b[0m     \u001b[0;32melif\u001b[0m\u001b[0;34m(\u001b[0m\u001b[0malgoritmo\u001b[0m\u001b[0;34m==\u001b[0m\u001b[0;36m2\u001b[0m\u001b[0;34m)\u001b[0m\u001b[0;34m:\u001b[0m\u001b[0;34m\u001b[0m\u001b[0m\n",
      "\u001b[0;32m<ipython-input-7-a983065f6ad9>\u001b[0m in \u001b[0;36mbusquedaTabu\u001b[0;34m(N, I)\u001b[0m\n\u001b[1;32m     54\u001b[0m         \u001b[0;32mprint\u001b[0m \u001b[0;34m\"\\nFitness\\tVector\"\u001b[0m\u001b[0;34m\u001b[0m\u001b[0m\n\u001b[1;32m     55\u001b[0m         \u001b[0;32mprint\u001b[0m \u001b[0;34m\"--------\\t--------\"\u001b[0m\u001b[0;34m\u001b[0m\u001b[0m\n\u001b[0;32m---> 56\u001b[0;31m         \u001b[0;32mfor\u001b[0m \u001b[0melem\u001b[0m \u001b[0;32min\u001b[0m \u001b[0mdicVector\u001b[0m\u001b[0;34m.\u001b[0m\u001b[0miteritems\u001b[0m\u001b[0;34m(\u001b[0m\u001b[0;34m)\u001b[0m\u001b[0;34m:\u001b[0m\u001b[0;34m\u001b[0m\u001b[0m\n\u001b[0m\u001b[1;32m     57\u001b[0m             \u001b[0;34m[\u001b[0m\u001b[0;34m(\u001b[0m\u001b[0mk\u001b[0m\u001b[0;34m,\u001b[0m \u001b[0mv\u001b[0m\u001b[0;34m)\u001b[0m\u001b[0;34m]\u001b[0m \u001b[0;34m=\u001b[0m \u001b[0melem\u001b[0m\u001b[0;34m.\u001b[0m\u001b[0mitems\u001b[0m\u001b[0;34m(\u001b[0m\u001b[0;34m)\u001b[0m\u001b[0;34m\u001b[0m\u001b[0m\n\u001b[1;32m     58\u001b[0m             \u001b[0;32mprint\u001b[0m \u001b[0mk\u001b[0m\u001b[0;34m,\u001b[0m\u001b[0;34m\"\\t\"\u001b[0m\u001b[0;34m,\u001b[0m\u001b[0mv\u001b[0m\u001b[0;34m\u001b[0m\u001b[0m\n",
      "\u001b[0;31mAttributeError\u001b[0m: 'list' object has no attribute 'iteritems'"
     ]
    }
   ],
   "source": [
    "repetir=True\n",
    "#Primero se decide cuál algoritmo se desea correr\n",
    "texto='''\n",
    "Ingrese el tipo de algoritmo:\n",
    "(1) Búsqueda Tabú\n",
    "(2) Enfriamiento Simulado\n",
    "'''\n",
    "while repetir==True:\n",
    "    algoritmo=input(texto)\n",
    "    if(algoritmo==1):\n",
    "        nroReinas=input('Ingrese el número de reinas:')\n",
    "        nroIteraciones=input('Ingrese el número de iteraciones máximas:')\n",
    "        busquedaTabu(nroReinas,nroIteraciones)\n",
    "        repetir=finalizar()\n",
    "    elif(algoritmo==2):\n",
    "        nroReinas=input('Ingrese el número de reinas:')\n",
    "        nroIteraciones=input('Ingrese el número de iteraciones máximas:')        \n",
    "        enfriamientoSimulado(nroReinas,nroIteraciones)\n",
    "        repetir=finalizar()\n",
    "    else:\n",
    "        print \"---------------------------\"\n",
    "        print \"Algoritmo desconocido, favor repita su selección.\"\n",
    "        print \"---------------------------\\n\\n\"\n",
    "    "
   ]
  },
  {
   "cell_type": "code",
   "execution_count": null,
   "metadata": {},
   "outputs": [],
   "source": [
    "ve=[3,4,2,0,5,1,6]\n",
    "print evaluar(ve)\n"
   ]
  },
  {
   "cell_type": "code",
   "execution_count": null,
   "metadata": {
    "collapsed": true
   },
   "outputs": [],
   "source": []
  }
 ],
 "metadata": {
  "kernelspec": {
   "display_name": "Python 2",
   "language": "python",
   "name": "python2"
  },
  "language_info": {
   "codemirror_mode": {
    "name": "ipython",
    "version": 2
   },
   "file_extension": ".py",
   "mimetype": "text/x-python",
   "name": "python",
   "nbconvert_exporter": "python",
   "pygments_lexer": "ipython2",
   "version": "2.7.12"
  }
 },
 "nbformat": 4,
 "nbformat_minor": 2
}
